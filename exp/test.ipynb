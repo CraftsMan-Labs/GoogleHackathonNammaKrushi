{
 "cells": [
  {
   "cell_type": "code",
   "execution_count": null,
   "id": "6828623d",
   "metadata": {},
   "outputs": [],
   "source": []
  },
  {
   "cell_type": "code",
   "execution_count": 2,
   "id": "189e75b6",
   "metadata": {},
   "outputs": [],
   "source": [
    "from google.adk.tools import google_search\n",
    "\n",
    "\n",
    "def create_google_search_tool():\n",
    "    \"\"\"Provides Google Search tool via ADK\"\"\"\n",
    "    return google_search"
   ]
  },
  {
   "cell_type": "code",
   "execution_count": 3,
   "id": "4fdedba0",
   "metadata": {},
   "outputs": [],
   "source": [
    "from google.adk.tools import google_search\n",
    "\n",
    "\n",
    "def create_google_search_tool():\n",
    "    return google_search\n",
    "\n",
    "\n",
    "import requests\n",
    "import os\n",
    "from typing import Dict, Any\n",
    "\n",
    "\n",
    "def get_current_weather(lat: float, lon: float) -> Dict[str, Any]:\n",
    "    api_key = os.getenv(\"GOOGLE_WEATHER_API_KEY\")\n",
    "    endpoint = \"https://maps.googleapis.com/maps/api/weather/v1/current\"\n",
    "    params = {\"location\": f\"{lat},{lon}\", \"key\": api_key}\n",
    "    resp = requests.get(endpoint, params=params)\n",
    "    if resp.status_code == 200:\n",
    "        return resp.json()\n",
    "    return {\"error\": \"Weather API Error\", \"status_code\": resp.status_code}\n",
    "\n",
    "\n",
    "import requests\n",
    "from typing import Dict, Any\n",
    "\n",
    "\n",
    "def get_soilgrids_data(lat: float, lon: float) -> Dict[str, Any]:\n",
    "    \"\"\"\n",
    "    Fetches soil property data for the given latitude and longitude using the SoilGrids REST API.\n",
    "    Returns surface (0-5cm) values for all soil properties.\n",
    "    \"\"\"\n",
    "    url = f\"https://rest.soilgrids.org/query?lon={lon}&lat={lat}\"\n",
    "    try:\n",
    "        resp = requests.get(url, timeout=10)\n",
    "        resp.raise_for_status()\n",
    "        soil_data = resp.json()\n",
    "        surface_props = {}\n",
    "        properties = soil_data.get(\"properties\", {})\n",
    "        for prop, v in properties.items():\n",
    "            try:\n",
    "                surface_val = v[\"values\"][0][\"mean\"]\n",
    "                surface_props[prop] = surface_val\n",
    "            except Exception:\n",
    "                continue\n",
    "        return {\n",
    "            \"status\": \"success\",\n",
    "            \"latitude\": lat,\n",
    "            \"longitude\": lon,\n",
    "            \"surface_soil_properties\": surface_props,\n",
    "            \"soilgrids_raw\": properties,\n",
    "        }\n",
    "    except Exception as e:\n",
    "        return {\n",
    "            \"status\": \"error\",\n",
    "            \"message\": f\"Failed to fetch SoilGrids data: {str(e)}\",\n",
    "        }"
   ]
  },
  {
   "cell_type": "code",
   "execution_count": 4,
   "id": "dec91c1e",
   "metadata": {},
   "outputs": [],
   "source": [
    "from google.adk.agents import Agent\n",
    "\n",
    "root_agent = Agent(\n",
    "    name=\"multi_api_streaming_agent\",\n",
    "    model=\"gemini-2.0-flash-live-001\",\n",
    "    description=(\n",
    "        \"Expert assistant with access to Google Search, Location, Weather, and Soil Data APIs. \"\n",
    "        \"Given a location (as name/address or lat/lon), can provide coordinates, weather, and full soil properties.\"\n",
    "    ),\n",
    "    instruction=\"\"\"You are an advanced assistant for environmental and location data.\n",
    "    - Given a user-input location (address or latitude/longitude), you can fetch coordinates, current weather,\n",
    "      and a detailed set of soil properties for that point using SoilGrids.\n",
    "    - For soil properties, call the 'get_soilgrids_data' tool when lat/lon are specified.\n",
    "    - Respond with clear, concise information and highlight key findings (such as soil pH, nitrogen, sand/clay content, etc).\n",
    "    \"\"\",\n",
    "    tools=[google_search, get_current_weather, get_soilgrids_data],\n",
    ")"
   ]
  },
  {
   "cell_type": "code",
   "execution_count": 5,
   "id": "b470f1fa",
   "metadata": {},
   "outputs": [
    {
     "ename": "ModuleNotFoundError",
     "evalue": "No module named 'google.adk.orchestration'",
     "output_type": "error",
     "traceback": [
      "\u001b[31m---------------------------------------------------------------------------\u001b[39m",
      "\u001b[31mModuleNotFoundError\u001b[39m                       Traceback (most recent call last)",
      "\u001b[36mCell\u001b[39m\u001b[36m \u001b[39m\u001b[32mIn[5]\u001b[39m\u001b[32m, line 1\u001b[39m\n\u001b[32m----> \u001b[39m\u001b[32m1\u001b[39m \u001b[38;5;28;01mfrom\u001b[39;00m\u001b[38;5;250m \u001b[39m\u001b[34;01mgoogle\u001b[39;00m\u001b[34;01m.\u001b[39;00m\u001b[34;01madk\u001b[39;00m\u001b[34;01m.\u001b[39;00m\u001b[34;01morchestration\u001b[39;00m\u001b[34;01m.\u001b[39;00m\u001b[34;01msession\u001b[39;00m\u001b[38;5;250m \u001b[39m\u001b[38;5;28;01mimport\u001b[39;00m InMemorySessionService\n\u001b[32m      2\u001b[39m \u001b[38;5;28;01mfrom\u001b[39;00m\u001b[38;5;250m \u001b[39m\u001b[34;01mgoogle\u001b[39;00m\u001b[34;01m.\u001b[39;00m\u001b[34;01mgenerativeai\u001b[39;00m\u001b[34;01m.\u001b[39;00m\u001b[34;01mtypes\u001b[39;00m\u001b[34;01m.\u001b[39;00m\u001b[34;01mcontent_types\u001b[39;00m\u001b[38;5;250m \u001b[39m\u001b[38;5;28;01mimport\u001b[39;00m Content, Part\n\u001b[32m      3\u001b[39m user_id = \u001b[33m\"\u001b[39m\u001b[33mdemo_user\u001b[39m\u001b[33m\"\u001b[39m\n",
      "\u001b[31mModuleNotFoundError\u001b[39m: No module named 'google.adk.orchestration'"
     ]
    }
   ],
   "source": [
    "from google.adk.orchestration.session import InMemorySessionService\n",
    "from google.generativeai.types.content_types import Content, Part\n",
    "\n",
    "user_id = \"demo_user\"\n",
    "session_id = \"demo_session\"\n",
    "query = \"Give me soil and weather data for Bengaluru, India\"\n",
    "\n",
    "# Build Content object\n",
    "content = Content(role=\"user\", parts=[Part.from_text(query)])\n",
    "\n",
    "# Run the agent (synchronous/simple mode)\n",
    "result = root_agent.run_sync(user_id=user_id, session_id=session_id, content=content)\n",
    "print(result.text())"
   ]
  },
  {
   "cell_type": "code",
   "execution_count": null,
   "id": "275971d4",
   "metadata": {},
   "outputs": [],
   "source": []
  }
 ],
 "metadata": {
  "kernelspec": {
   "display_name": "insurgence_ai",
   "language": "python",
   "name": "python3"
  },
  "language_info": {
   "codemirror_mode": {
    "name": "ipython",
    "version": 3
   },
   "file_extension": ".py",
   "mimetype": "text/x-python",
   "name": "python",
   "nbconvert_exporter": "python",
   "pygments_lexer": "ipython3",
   "version": "3.11.11"
  }
 },
 "nbformat": 4,
 "nbformat_minor": 5
}
