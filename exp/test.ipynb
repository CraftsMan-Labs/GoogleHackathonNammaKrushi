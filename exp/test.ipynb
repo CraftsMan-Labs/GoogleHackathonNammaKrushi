{
 "cells": [
  {
   "cell_type": "code",
   "execution_count": 1,
   "id": "74c59190",
   "metadata": {},
   "outputs": [],
   "source": [
    "from dotenv import load_dotenv\n",
    "import os\n",
    "import requests\n",
    "from typing import Any, Dict\n",
    "\n",
    "load_dotenv()\n",
    "\n",
    "\n",
    "def google_search(query:str) -> dict[str,Any]:\n",
    "    \"\"\"\n",
    "    Performs a Google search and returns a list of results.\n",
    "    :param query: The search query string.\n",
    "    :param api_key: Your Google API key.\n",
    "    :param cse_id: Your Custom Search Engine ID.\n",
    "    :param num_results: Number of results to return (default: 5).\n",
    "    :return: List of search result dictionaries.\n",
    "    \"\"\"\n",
    "    url = \"https://www.googleapis.com/customsearch/v1\"\n",
    "    params = {\n",
    "        \"q\": query,\n",
    "        \"key\": os.getenv(\"GOOGLE_WEATHER_API_KEY\"),\n",
    "        \"cx\": os.getenv(\"GOOGLE_SEARCH_CSE_ID\"),\n",
    "        \"num\": 5,\n",
    "    }\n",
    "    response = requests.get(url, params=params)\n",
    "    print(response.status_code, response.text)\n",
    "    results = response.json().get(\"items\", [])\n",
    "\n",
    "    hmm_res = [\n",
    "        {\n",
    "            \"title\": item.get(\"title\"),\n",
    "            \"snippet\": item.get(\"snippet\"),\n",
    "            \"link\": item.get(\"link\"),\n",
    "        }\n",
    "        for item in results\n",
    "    ]\n",
    "    print(hmm_res)\n",
    "    str_res = \"\\n\".join(\n",
    "        f\"{i + 1}. {item['title']}\\n{item['snippet']}\\n{item['link']}\"\n",
    "        for i, item in enumerate(hmm_res)\n",
    "    )\n",
    "    final_res = {\n",
    "        \"res\":str_res if str_res else \"No results found.\"\n",
    "    }\n",
    "    return final_res"
   ]
  },
  {
   "cell_type": "code",
   "execution_count": 2,
   "id": "5288a502",
   "metadata": {},
   "outputs": [
    {
     "data": {
      "text/plain": [
       "{'key': '4c5eb0c6164a7ac1ae87cb3df5e78414',\n",
       " 'cx': '47fa5cf89c7df43e2',\n",
       " 'num': 10}"
      ]
     },
     "execution_count": 2,
     "metadata": {},
     "output_type": "execute_result"
    }
   ],
   "source": [
    "params = {\n",
    "        \"key\": os.getenv(\"GOOGLE_WEATHER_API_KEY\"),\n",
    "        \"cx\": os.getenv(\"GOOGLE_SEARCH_CSE_ID\"),\n",
    "        \"num\": 10,\n",
    "    }\n",
    "\n",
    "params"
   ]
  },
  {
   "cell_type": "code",
   "execution_count": 3,
   "id": "e178dfb1",
   "metadata": {},
   "outputs": [
    {
     "name": "stdout",
     "output_type": "stream",
     "text": [
      "400 {\n",
      "  \"error\": {\n",
      "    \"code\": 400,\n",
      "    \"message\": \"API key not valid. Please pass a valid API key.\",\n",
      "    \"errors\": [\n",
      "      {\n",
      "        \"message\": \"API key not valid. Please pass a valid API key.\",\n",
      "        \"domain\": \"global\",\n",
      "        \"reason\": \"badRequest\"\n",
      "      }\n",
      "    ],\n",
      "    \"status\": \"INVALID_ARGUMENT\",\n",
      "    \"details\": [\n",
      "      {\n",
      "        \"@type\": \"type.googleapis.com/google.rpc.ErrorInfo\",\n",
      "        \"reason\": \"API_KEY_INVALID\",\n",
      "        \"domain\": \"googleapis.com\",\n",
      "        \"metadata\": {\n",
      "          \"service\": \"customsearch.googleapis.com\"\n",
      "        }\n",
      "      },\n",
      "      {\n",
      "        \"@type\": \"type.googleapis.com/google.rpc.LocalizedMessage\",\n",
      "        \"locale\": \"en-US\",\n",
      "        \"message\": \"API key not valid. Please pass a valid API key.\"\n",
      "      }\n",
      "    ]\n",
      "  }\n",
      "}\n",
      "\n",
      "[]\n"
     ]
    },
    {
     "data": {
      "text/plain": [
       "{'res': 'No results found.'}"
      ]
     },
     "execution_count": 3,
     "metadata": {},
     "output_type": "execute_result"
    }
   ],
   "source": [
    "google_search(\"Who is Rishub C R?\")"
   ]
  },
  {
   "cell_type": "code",
   "execution_count": 4,
   "id": "be2e0df9",
   "metadata": {},
   "outputs": [],
   "source": [
    "import json\n",
    "import requests\n",
    "\n",
    "async def get_soilgrids_data(lat: float, lon: float) -> dict:\n",
    "    \"\"\"Fetches soil property data for the given coordinates using the SoilGrids v2.0 REST API.\"\"\"\n",
    "    properties = [\n",
    "        \"bdod\",\n",
    "        \"cec\",\n",
    "        \"cfvo\",\n",
    "        \"clay\",\n",
    "        \"nitrogen\",\n",
    "        \"ocd\",\n",
    "        \"ocs\",\n",
    "        \"phh2o\",\n",
    "        \"sand\",\n",
    "        \"silt\",\n",
    "        \"soc\",\n",
    "        \"wv0010\",\n",
    "        \"wv0033\",\n",
    "        \"wv1500\"\n",
    "    ]\n",
    "    depths = [\"0-5cm\", \"0-30cm\", \"5-15cm\", \"15-30cm\", \"30-60cm\", \"60-100cm\", \"100-200cm\"]\n",
    "    values = [\"Q0.05\", \"Q0.5\", \"Q0.95\", \"mean\", \"uncertainty\"]\n",
    "\n",
    "    try:\n",
    "        url = f\"https://rest.isric.org/soilgrids/v2.0/properties/query?lon={lon}&lat={lat}\"\n",
    "        for prop in properties:\n",
    "            url += f\"&property={prop}\"\n",
    "        for depth in depths:\n",
    "            url += f\"&depth={depth}\"\n",
    "        for value in values:\n",
    "            url += f\"&value={value}\"\n",
    "\n",
    "        response = requests.get(url, timeout=200, headers={\"accept\": \"application/json\"})\n",
    "        response.raise_for_status()\n",
    "\n",
    "        soil_data = response.json()\n",
    "        processed_data = {}\n",
    "\n",
    "        # Updated processing logic to match the actual API response structure\n",
    "        if \"properties\" in soil_data and \"layers\" in soil_data[\"properties\"]:\n",
    "            for layer in soil_data[\"properties\"][\"layers\"]:\n",
    "                prop_name = layer.get(\"name\")\n",
    "                if prop_name:\n",
    "                    processed_data[prop_name] = {}\n",
    "                    # Add unit information\n",
    "                    if \"unit_measure\" in layer:\n",
    "                        processed_data[prop_name][\"unit_measure\"] = layer[\"unit_measure\"]\n",
    "                    \n",
    "                    # Process depths\n",
    "                    for depth_info in layer.get(\"depths\", []):\n",
    "                        depth_label = depth_info.get(\"label\", \"unknown\")\n",
    "                        depth_values = depth_info.get(\"values\", {})\n",
    "                        processed_data[prop_name][depth_label] = depth_values\n",
    "\n",
    "        return {\n",
    "            \"status\": \"success\",\n",
    "            \"data\": json.dumps(processed_data)\n",
    "        }\n",
    "\n",
    "    except Exception as e:\n",
    "        return {\n",
    "            \"status\": \"error\",\n",
    "            \"error_message\": f\"Failed to fetch SoilGrids data: {str(e)}\",\n",
    "        }"
   ]
  },
  {
   "cell_type": "code",
   "execution_count": 5,
   "id": "a42d3ef6",
   "metadata": {},
   "outputs": [
    {
     "data": {
      "text/plain": [
       "{'status': 'success',\n",
       " 'data': '{\"bdod\": {\"unit_measure\": {\"d_factor\": 100, \"mapped_units\": \"cg/cm\\\\u00b3\", \"target_units\": \"kg/dm\\\\u00b3\", \"uncertainty_unit\": \"\"}, \"0-5cm\": {\"Q0.05\": null, \"Q0.5\": null, \"Q0.95\": null, \"mean\": null, \"uncertainty\": null}, \"5-15cm\": {\"Q0.5\": null, \"Q0.05\": null, \"Q0.95\": null, \"mean\": null, \"uncertainty\": null}, \"15-30cm\": {\"Q0.05\": null, \"Q0.5\": null, \"Q0.95\": null, \"mean\": null, \"uncertainty\": null}, \"30-60cm\": {\"Q0.05\": null, \"Q0.5\": null, \"Q0.95\": null, \"mean\": null, \"uncertainty\": null}, \"60-100cm\": {\"Q0.05\": null, \"Q0.5\": null, \"Q0.95\": null, \"mean\": null, \"uncertainty\": null}, \"100-200cm\": {\"Q0.5\": null, \"Q0.05\": null, \"Q0.95\": null, \"mean\": null, \"uncertainty\": null}}, \"cec\": {\"unit_measure\": {\"d_factor\": 10, \"mapped_units\": \"mmol(c)/kg\", \"target_units\": \"cmol(c)/kg\", \"uncertainty_unit\": \"\"}, \"0-5cm\": {\"Q0.5\": null, \"Q0.05\": null, \"Q0.95\": null, \"mean\": null, \"uncertainty\": null}, \"5-15cm\": {\"Q0.5\": null, \"Q0.05\": null, \"Q0.95\": null, \"mean\": null, \"uncertainty\": null}, \"15-30cm\": {\"Q0.05\": null, \"Q0.5\": null, \"Q0.95\": null, \"mean\": null, \"uncertainty\": null}, \"30-60cm\": {\"Q0.05\": null, \"Q0.5\": null, \"Q0.95\": null, \"mean\": null, \"uncertainty\": null}, \"60-100cm\": {\"Q0.05\": null, \"Q0.5\": null, \"Q0.95\": null, \"mean\": null, \"uncertainty\": null}, \"100-200cm\": {\"Q0.5\": null, \"Q0.05\": null, \"Q0.95\": null, \"mean\": null, \"uncertainty\": null}}, \"cfvo\": {\"unit_measure\": {\"d_factor\": 10, \"mapped_units\": \"cm\\\\u00b3/dm\\\\u00b3\", \"target_units\": \"cm\\\\u00b3/100cm\\\\u00b3\", \"uncertainty_unit\": \"\"}, \"0-5cm\": {\"Q0.5\": null, \"Q0.05\": null, \"Q0.95\": null, \"mean\": null, \"uncertainty\": null}, \"5-15cm\": {\"Q0.05\": null, \"Q0.5\": null, \"Q0.95\": null, \"mean\": null, \"uncertainty\": null}, \"15-30cm\": {\"Q0.05\": null, \"Q0.5\": null, \"Q0.95\": null, \"mean\": null, \"uncertainty\": null}, \"30-60cm\": {\"Q0.5\": null, \"Q0.05\": null, \"Q0.95\": null, \"mean\": null, \"uncertainty\": null}, \"60-100cm\": {\"Q0.05\": null, \"Q0.5\": null, \"Q0.95\": null, \"mean\": null, \"uncertainty\": null}, \"100-200cm\": {\"Q0.5\": null, \"Q0.05\": null, \"Q0.95\": null, \"mean\": null, \"uncertainty\": null}}, \"clay\": {\"unit_measure\": {\"d_factor\": 10, \"mapped_units\": \"g/kg\", \"target_units\": \"%\", \"uncertainty_unit\": \"\"}, \"0-5cm\": {\"Q0.05\": null, \"Q0.5\": null, \"Q0.95\": null, \"mean\": null, \"uncertainty\": null}, \"5-15cm\": {\"Q0.05\": null, \"Q0.5\": null, \"Q0.95\": null, \"mean\": null, \"uncertainty\": null}, \"15-30cm\": {\"Q0.5\": null, \"Q0.05\": null, \"Q0.95\": null, \"mean\": null, \"uncertainty\": null}, \"30-60cm\": {\"Q0.05\": null, \"Q0.5\": null, \"Q0.95\": null, \"mean\": null, \"uncertainty\": null}, \"60-100cm\": {\"Q0.5\": null, \"Q0.05\": null, \"Q0.95\": null, \"mean\": null, \"uncertainty\": null}, \"100-200cm\": {\"Q0.05\": null, \"Q0.5\": null, \"Q0.95\": null, \"mean\": null, \"uncertainty\": null}}, \"nitrogen\": {\"unit_measure\": {\"d_factor\": 100, \"mapped_units\": \"cg/kg\", \"target_units\": \"g/kg\", \"uncertainty_unit\": \"\"}, \"0-5cm\": {\"Q0.05\": null, \"Q0.5\": null, \"Q0.95\": null, \"mean\": null, \"uncertainty\": null}, \"5-15cm\": {\"Q0.5\": null, \"Q0.05\": null, \"Q0.95\": null, \"mean\": null, \"uncertainty\": null}, \"15-30cm\": {\"Q0.5\": null, \"Q0.05\": null, \"Q0.95\": null, \"mean\": null, \"uncertainty\": null}, \"30-60cm\": {\"Q0.05\": null, \"Q0.5\": null, \"Q0.95\": null, \"mean\": null, \"uncertainty\": null}, \"60-100cm\": {\"Q0.05\": null, \"Q0.5\": null, \"Q0.95\": null, \"mean\": null, \"uncertainty\": null}, \"100-200cm\": {\"Q0.05\": null, \"Q0.5\": null, \"Q0.95\": null, \"mean\": null, \"uncertainty\": null}}, \"ocd\": {\"unit_measure\": {\"d_factor\": 10, \"mapped_units\": \"dg/dm\\\\u00b3\", \"target_units\": \"hg/m\\\\u00b3\", \"uncertainty_unit\": \"\"}, \"0-5cm\": {\"Q0.5\": null, \"Q0.05\": null, \"Q0.95\": null, \"mean\": null, \"uncertainty\": null}, \"5-15cm\": {\"Q0.05\": null, \"Q0.5\": null, \"Q0.95\": null, \"mean\": null, \"uncertainty\": null}, \"15-30cm\": {\"Q0.05\": null, \"Q0.5\": null, \"Q0.95\": null, \"mean\": null, \"uncertainty\": null}, \"30-60cm\": {\"Q0.5\": null, \"Q0.05\": null, \"Q0.95\": null, \"mean\": null, \"uncertainty\": null}, \"60-100cm\": {\"Q0.5\": null, \"Q0.05\": null, \"Q0.95\": null, \"mean\": null, \"uncertainty\": null}, \"100-200cm\": {\"Q0.05\": null, \"Q0.5\": null, \"Q0.95\": null, \"mean\": null, \"uncertainty\": null}}, \"ocs\": {\"unit_measure\": {\"d_factor\": 10, \"mapped_units\": \"t/ha\", \"target_units\": \"kg/m\\\\u00b2\", \"uncertainty_unit\": \"\"}, \"0-30cm\": {\"Q0.5\": null, \"Q0.05\": null, \"Q0.95\": null, \"mean\": null, \"uncertainty\": null}}, \"phh2o\": {\"unit_measure\": {\"d_factor\": 10, \"mapped_units\": \"pH*10\", \"target_units\": \"-\", \"uncertainty_unit\": \"\"}, \"0-5cm\": {\"Q0.5\": null, \"Q0.05\": null, \"Q0.95\": null, \"mean\": null, \"uncertainty\": null}, \"5-15cm\": {\"Q0.5\": null, \"Q0.05\": null, \"Q0.95\": null, \"mean\": null, \"uncertainty\": null}, \"15-30cm\": {\"Q0.05\": null, \"Q0.5\": null, \"Q0.95\": null, \"mean\": null, \"uncertainty\": null}, \"30-60cm\": {\"Q0.05\": null, \"Q0.5\": null, \"Q0.95\": null, \"mean\": null, \"uncertainty\": null}, \"60-100cm\": {\"Q0.5\": null, \"Q0.05\": null, \"Q0.95\": null, \"mean\": null, \"uncertainty\": null}, \"100-200cm\": {\"Q0.05\": null, \"Q0.5\": null, \"Q0.95\": null, \"mean\": null, \"uncertainty\": null}}, \"sand\": {\"unit_measure\": {\"d_factor\": 10, \"mapped_units\": \"g/kg\", \"target_units\": \"%\", \"uncertainty_unit\": \"\"}, \"0-5cm\": {\"Q0.05\": null, \"Q0.5\": null, \"Q0.95\": null, \"mean\": null, \"uncertainty\": null}, \"5-15cm\": {\"Q0.5\": null, \"Q0.05\": null, \"Q0.95\": null, \"mean\": null, \"uncertainty\": null}, \"15-30cm\": {\"Q0.05\": null, \"Q0.5\": null, \"Q0.95\": null, \"mean\": null, \"uncertainty\": null}, \"30-60cm\": {\"Q0.5\": null, \"Q0.05\": null, \"Q0.95\": null, \"mean\": null, \"uncertainty\": null}, \"60-100cm\": {\"Q0.05\": null, \"Q0.5\": null, \"Q0.95\": null, \"mean\": null, \"uncertainty\": null}, \"100-200cm\": {\"Q0.05\": null, \"Q0.5\": null, \"Q0.95\": null, \"mean\": null, \"uncertainty\": null}}, \"silt\": {\"unit_measure\": {\"d_factor\": 10, \"mapped_units\": \"g/kg\", \"target_units\": \"%\", \"uncertainty_unit\": \"\"}, \"0-5cm\": {\"Q0.05\": null, \"Q0.5\": null, \"Q0.95\": null, \"mean\": null, \"uncertainty\": null}, \"5-15cm\": {\"Q0.5\": null, \"Q0.05\": null, \"Q0.95\": null, \"mean\": null, \"uncertainty\": null}, \"15-30cm\": {\"Q0.5\": null, \"Q0.05\": null, \"Q0.95\": null, \"mean\": null, \"uncertainty\": null}, \"30-60cm\": {\"Q0.5\": null, \"Q0.05\": null, \"Q0.95\": null, \"mean\": null, \"uncertainty\": null}, \"60-100cm\": {\"Q0.05\": null, \"Q0.5\": null, \"Q0.95\": null, \"mean\": null, \"uncertainty\": null}, \"100-200cm\": {\"Q0.5\": null, \"Q0.05\": null, \"Q0.95\": null, \"mean\": null, \"uncertainty\": null}}, \"soc\": {\"unit_measure\": {\"d_factor\": 10, \"mapped_units\": \"dg/kg\", \"target_units\": \"g/kg\", \"uncertainty_unit\": \"\"}, \"0-5cm\": {\"Q0.05\": null, \"Q0.5\": null, \"Q0.95\": null, \"mean\": null, \"uncertainty\": null}, \"5-15cm\": {\"Q0.5\": null, \"Q0.05\": null, \"Q0.95\": null, \"mean\": null, \"uncertainty\": null}, \"15-30cm\": {\"Q0.05\": null, \"Q0.5\": null, \"Q0.95\": null, \"mean\": null, \"uncertainty\": null}, \"30-60cm\": {\"Q0.05\": null, \"Q0.5\": null, \"Q0.95\": null, \"mean\": null, \"uncertainty\": null}, \"60-100cm\": {\"Q0.05\": null, \"Q0.5\": null, \"Q0.95\": null, \"mean\": null, \"uncertainty\": null}, \"100-200cm\": {\"Q0.5\": null, \"Q0.05\": null, \"Q0.95\": null, \"mean\": null, \"uncertainty\": null}}, \"wv0010\": {\"unit_measure\": {\"d_factor\": 10, \"mapped_units\": \"(10-2 cm\\\\u00b3/cm\\\\u00b3)*10\", \"target_units\": \"10-2 cm\\\\u00b3/cm\\\\u00b3\", \"uncertainty_unit\": \"\"}, \"0-5cm\": {\"Q0.05\": null, \"Q0.5\": null, \"Q0.95\": null, \"mean\": null, \"uncertainty\": null}, \"5-15cm\": {\"Q0.05\": null, \"Q0.5\": null, \"Q0.95\": null, \"mean\": null, \"uncertainty\": null}, \"15-30cm\": {\"Q0.5\": null, \"Q0.05\": null, \"Q0.95\": null, \"mean\": null, \"uncertainty\": null}, \"30-60cm\": {\"Q0.5\": null, \"Q0.05\": null, \"Q0.95\": null, \"mean\": null, \"uncertainty\": null}, \"60-100cm\": {\"Q0.05\": null, \"Q0.5\": null, \"Q0.95\": null, \"mean\": null, \"uncertainty\": null}, \"100-200cm\": {\"Q0.05\": null, \"Q0.5\": null, \"Q0.95\": null, \"mean\": null, \"uncertainty\": null}}, \"wv0033\": {\"unit_measure\": {\"d_factor\": 10, \"mapped_units\": \"(10-2 cm\\\\u00b3/cm\\\\u00b3)*10\", \"target_units\": \"10-2 cm\\\\u00b3/cm\\\\u00b3\", \"uncertainty_unit\": \"\"}, \"0-5cm\": {\"Q0.5\": null, \"Q0.05\": null, \"Q0.95\": null, \"mean\": null, \"uncertainty\": null}, \"5-15cm\": {\"Q0.05\": null, \"Q0.5\": null, \"Q0.95\": null, \"mean\": null, \"uncertainty\": null}, \"15-30cm\": {\"Q0.05\": null, \"Q0.5\": null, \"Q0.95\": null, \"mean\": null, \"uncertainty\": null}, \"30-60cm\": {\"Q0.5\": null, \"Q0.05\": null, \"Q0.95\": null, \"mean\": null, \"uncertainty\": null}, \"60-100cm\": {\"Q0.05\": null, \"Q0.5\": null, \"Q0.95\": null, \"mean\": null, \"uncertainty\": null}, \"100-200cm\": {\"Q0.05\": null, \"Q0.5\": null, \"Q0.95\": null, \"mean\": null, \"uncertainty\": null}}, \"wv1500\": {\"unit_measure\": {\"d_factor\": 10, \"mapped_units\": \"(10-2 cm\\\\u00b3/cm\\\\u00b3)*10\", \"target_units\": \"10-2 cm\\\\u00b3/cm\\\\u00b3\", \"uncertainty_unit\": \"\"}, \"0-5cm\": {\"Q0.05\": null, \"Q0.5\": null, \"Q0.95\": null, \"mean\": null, \"uncertainty\": null}, \"5-15cm\": {\"Q0.05\": null, \"Q0.5\": null, \"Q0.95\": null, \"mean\": null, \"uncertainty\": null}, \"15-30cm\": {\"Q0.05\": null, \"Q0.5\": null, \"Q0.95\": null, \"mean\": null, \"uncertainty\": null}, \"30-60cm\": {\"Q0.05\": null, \"Q0.5\": null, \"Q0.95\": null, \"mean\": null, \"uncertainty\": null}, \"60-100cm\": {\"Q0.05\": null, \"Q0.5\": null, \"Q0.95\": null, \"mean\": null, \"uncertainty\": null}, \"100-200cm\": {\"Q0.05\": null, \"Q0.5\": null, \"Q0.95\": null, \"mean\": null, \"uncertainty\": null}}}'}"
      ]
     },
     "execution_count": 5,
     "metadata": {},
     "output_type": "execute_result"
    }
   ],
   "source": [
    "await get_soilgrids_data(12.9716, 77.5946)  # Example coordinates for Bangalore"
   ]
  },
  {
   "cell_type": "code",
   "execution_count": 6,
   "id": "4fdedba0",
   "metadata": {},
   "outputs": [],
   "source": [
    "from google.adk.tools import google_search\n",
    "\n",
    "\n",
    "def create_google_search_tool():\n",
    "    return google_search\n",
    "\n",
    "\n",
    "import requests\n",
    "import os\n",
    "from typing import Dict, Any\n",
    "\n",
    "\n",
    "def get_current_weather(lat: float, lon: float) -> Dict[str, Any]:\n",
    "    api_key = os.getenv(\"GOOGLE_WEATHER_API_KEY\")\n",
    "    endpoint = \"https://maps.googleapis.com/maps/api/weather/v1/current\"\n",
    "    params = {\"location\": f\"{lat},{lon}\", \"key\": api_key}\n",
    "    resp = requests.get(endpoint, params=params)\n",
    "    if resp.status_code == 200:\n",
    "        return resp.json()\n",
    "    return {\"error\": resp.text, \"status_code\": resp.status_code}\n",
    "\n",
    "\n",
    "import requests\n",
    "from typing import Dict, Any\n",
    "\n",
    "\n",
    "def get_soilgrids_data(lat: float, lon: float) -> Dict[str, Any]:\n",
    "    \"\"\"\n",
    "    Fetches soil property data for the given latitude and longitude using the SoilGrids REST API.\n",
    "    Returns surface (0-5cm) values for all soil properties.\n",
    "    \"\"\"\n",
    "    url = f\"https://rest.soilgrids.org/query?lon={lon}&lat={lat}\"\n",
    "    try:\n",
    "        resp = requests.get(url, timeout=10)\n",
    "        resp.raise_for_status()\n",
    "        soil_data = resp.json()\n",
    "        surface_props = {}\n",
    "        properties = soil_data.get(\"properties\", {})\n",
    "        for prop, v in properties.items():\n",
    "            try:\n",
    "                surface_val = v[\"values\"][0][\"mean\"]\n",
    "                surface_props[prop] = surface_val\n",
    "            except Exception:\n",
    "                continue\n",
    "        return {\n",
    "            \"status\": \"success\",\n",
    "            \"latitude\": lat,\n",
    "            \"longitude\": lon,\n",
    "            \"surface_soil_properties\": surface_props,\n",
    "            \"soilgrids_raw\": properties,\n",
    "        }\n",
    "    except Exception as e:\n",
    "        return {\n",
    "            \"status\": \"error\",\n",
    "            \"message\": f\"Failed to fetch SoilGrids data: {str(e)}\",\n",
    "        }"
   ]
  },
  {
   "cell_type": "code",
   "execution_count": 7,
   "id": "fd1be270",
   "metadata": {},
   "outputs": [
    {
     "data": {
      "text/plain": [
       "{'error': '<!DOCTYPE html>\\n<html lang=en>\\n  <meta charset=utf-8>\\n  <meta name=viewport content=\"initial-scale=1, minimum-scale=1, width=device-width\">\\n  <title>Error 404 (Not Found)!!1</title>\\n  <style>\\n    *{margin:0;padding:0}html,code{font:15px/22px arial,sans-serif}html{background:#fff;color:#222;padding:15px}body{margin:7% auto 0;max-width:390px;min-height:180px;padding:30px 0 15px}* > body{background:url(//www.google.com/images/errors/robot.png) 100% 5px no-repeat;padding-right:205px}p{margin:11px 0 22px;overflow:hidden}ins{color:#777;text-decoration:none}a img{border:0}@media screen and (max-width:772px){body{background:none;margin-top:0;max-width:none;padding-right:0}}#logo{background:url(//www.google.com/images/branding/googlelogo/1x/googlelogo_color_150x54dp.png) no-repeat;margin-left:-5px}@media only screen and (min-resolution:192dpi){#logo{background:url(//www.google.com/images/branding/googlelogo/2x/googlelogo_color_150x54dp.png) no-repeat 0% 0%/100% 100%;-moz-border-image:url(//www.google.com/images/branding/googlelogo/2x/googlelogo_color_150x54dp.png) 0}}@media only screen and (-webkit-min-device-pixel-ratio:2){#logo{background:url(//www.google.com/images/branding/googlelogo/2x/googlelogo_color_150x54dp.png) no-repeat;-webkit-background-size:100% 100%}}#logo{display:inline-block;height:54px;width:150px}\\n  </style>\\n  <a href=//www.google.com/><span id=logo aria-label=Google></span></a>\\n  <p><b>404.</b> <ins>That’s an error.</ins>\\n  <p>The requested URL <code>/maps/api/weather/v1/current?location=12.9629%2C77.5775&amp;key=4c5eb0c6164a7ac1ae87cb3df5e78414</code> was not found on this server.  <ins>That’s all we know.</ins>\\n',\n",
       " 'status_code': 404}"
      ]
     },
     "execution_count": 7,
     "metadata": {},
     "output_type": "execute_result"
    }
   ],
   "source": [
    "# 12.9629° N, 77.5775° E\n",
    "get_current_weather(12.9629, 77.5775)  # Example coordinates for Bangalore"
   ]
  },
  {
   "cell_type": "code",
   "execution_count": 21,
   "id": "37c13db7",
   "metadata": {},
   "outputs": [],
   "source": [
    "import requests\n",
    "\n",
    "\n",
    "def get_weather_data(lat, lon, api_key):\n",
    "    url = f\"https://api.openweathermap.org/data/2.5/weather?lat={lat}&lon={lon}&appid={api_key}\"\n",
    "\n",
    "    response = requests.get(url, params=params)\n",
    "    return response.json()"
   ]
  },
  {
   "cell_type": "code",
   "execution_count": 22,
   "id": "940ce304",
   "metadata": {},
   "outputs": [
    {
     "data": {
      "text/plain": [
       "{'cod': 401,\n",
       " 'message': 'Invalid API key. Please see https://openweathermap.org/faq#error401 for more info.'}"
      ]
     },
     "execution_count": 22,
     "metadata": {},
     "output_type": "execute_result"
    }
   ],
   "source": [
    "get_weather_data(12.9629, 77.5775, \"4c5eb0c6164a7ac1ae87cb3df5e78414\")  # Example coordinates for Bangalore"
   ]
  },
  {
   "cell_type": "code",
   "execution_count": null,
   "id": "dec91c1e",
   "metadata": {},
   "outputs": [],
   "source": [
    "from google.adk.agents import Agent\n",
    "\n",
    "root_agent = Agent(\n",
    "    name=\"multi_api_streaming_agent\",\n",
    "    model=\"gemini-2.0-flash-live-001\",\n",
    "    description=(\n",
    "        \"Expert assistant with access to Google Search, Location, Weather, and Soil Data APIs. \"\n",
    "        \"Given a location (as name/address or lat/lon), can provide coordinates, weather, and full soil properties.\"\n",
    "    ),\n",
    "    instruction=\"\"\"You are an advanced assistant for environmental and location data.\n",
    "    - Given a user-input location (address or latitude/longitude), you can fetch coordinates, current weather,\n",
    "      and a detailed set of soil properties for that point using SoilGrids.\n",
    "    - For soil properties, call the 'get_soilgrids_data' tool when lat/lon are specified.\n",
    "    - Respond with clear, concise information and highlight key findings (such as soil pH, nitrogen, sand/clay content, etc).\n",
    "    \"\"\",\n",
    "    tools=[google_search, get_current_weather, get_soilgrids_data],\n",
    ")"
   ]
  },
  {
   "cell_type": "code",
   "execution_count": null,
   "id": "b470f1fa",
   "metadata": {},
   "outputs": [],
   "source": [
    "from google.adk.orchestration.session import InMemorySessionService\n",
    "from google.generativeai.types.content_types import Content, Part\n",
    "\n",
    "user_id = \"demo_user\"\n",
    "session_id = \"demo_session\"\n",
    "query = \"Give me soil and weather data for Bengaluru, India\"\n",
    "\n",
    "# Build Content object\n",
    "content = Content(role=\"user\", parts=[Part.from_text(query)])\n",
    "\n",
    "# Run the agent (synchronous/simple mode)\n",
    "result = root_agent.run_sync(user_id=user_id, session_id=session_id, content=content)\n",
    "print(result.text())"
   ]
  },
  {
   "cell_type": "code",
   "execution_count": null,
   "id": "275971d4",
   "metadata": {},
   "outputs": [],
   "source": []
  }
 ],
 "metadata": {
  "kernelspec": {
   "display_name": "insurgence_ai",
   "language": "python",
   "name": "python3"
  },
  "language_info": {
   "codemirror_mode": {
    "name": "ipython",
    "version": 3
   },
   "file_extension": ".py",
   "mimetype": "text/x-python",
   "name": "python",
   "nbconvert_exporter": "python",
   "pygments_lexer": "ipython3",
   "version": "3.11.11"
  }
 },
 "nbformat": 4,
 "nbformat_minor": 5
}
